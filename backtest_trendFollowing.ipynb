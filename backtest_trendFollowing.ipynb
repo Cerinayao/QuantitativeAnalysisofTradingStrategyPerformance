{
 "cells": [
  {
   "cell_type": "code",
   "execution_count": 1,
   "id": "28048ef3",
   "metadata": {
    "id": "28048ef3"
   },
   "outputs": [],
   "source": [
    "import numpy as np\n",
    "import pandas as pd\n",
    "import yfinance as yf"
   ]
  },
  {
   "cell_type": "code",
   "execution_count": 2,
   "id": "32642510",
   "metadata": {
    "colab": {
     "base_uri": "https://localhost:8080/",
     "height": 473
    },
    "id": "32642510",
    "outputId": "8eba2746-9d9b-4d8f-aa71-8d0974dd6ed5"
   },
   "outputs": [
    {
     "name": "stdout",
     "output_type": "stream",
     "text": [
      "[*********************100%***********************]  1 of 1 completed\n"
     ]
    },
    {
     "data": {
      "text/html": [
       "<div>\n",
       "<style scoped>\n",
       "    .dataframe tbody tr th:only-of-type {\n",
       "        vertical-align: middle;\n",
       "    }\n",
       "\n",
       "    .dataframe tbody tr th {\n",
       "        vertical-align: top;\n",
       "    }\n",
       "\n",
       "    .dataframe thead th {\n",
       "        text-align: right;\n",
       "    }\n",
       "</style>\n",
       "<table border=\"1\" class=\"dataframe\">\n",
       "  <thead>\n",
       "    <tr style=\"text-align: right;\">\n",
       "      <th></th>\n",
       "      <th>Open</th>\n",
       "      <th>High</th>\n",
       "      <th>Low</th>\n",
       "      <th>Close</th>\n",
       "      <th>Adj Close</th>\n",
       "      <th>Volume</th>\n",
       "    </tr>\n",
       "    <tr>\n",
       "      <th>Date</th>\n",
       "      <th></th>\n",
       "      <th></th>\n",
       "      <th></th>\n",
       "      <th></th>\n",
       "      <th></th>\n",
       "      <th></th>\n",
       "    </tr>\n",
       "  </thead>\n",
       "  <tbody>\n",
       "    <tr>\n",
       "      <th>2000-01-03</th>\n",
       "      <td>4.075000</td>\n",
       "      <td>4.478125</td>\n",
       "      <td>3.952344</td>\n",
       "      <td>4.468750</td>\n",
       "      <td>4.468750</td>\n",
       "      <td>322352000</td>\n",
       "    </tr>\n",
       "    <tr>\n",
       "      <th>2000-01-04</th>\n",
       "      <td>4.268750</td>\n",
       "      <td>4.575000</td>\n",
       "      <td>4.087500</td>\n",
       "      <td>4.096875</td>\n",
       "      <td>4.096875</td>\n",
       "      <td>349748000</td>\n",
       "    </tr>\n",
       "    <tr>\n",
       "      <th>2000-01-05</th>\n",
       "      <td>3.525000</td>\n",
       "      <td>3.756250</td>\n",
       "      <td>3.400000</td>\n",
       "      <td>3.487500</td>\n",
       "      <td>3.487500</td>\n",
       "      <td>769148000</td>\n",
       "    </tr>\n",
       "    <tr>\n",
       "      <th>2000-01-06</th>\n",
       "      <td>3.565625</td>\n",
       "      <td>3.634375</td>\n",
       "      <td>3.200000</td>\n",
       "      <td>3.278125</td>\n",
       "      <td>3.278125</td>\n",
       "      <td>375040000</td>\n",
       "    </tr>\n",
       "    <tr>\n",
       "      <th>2000-01-07</th>\n",
       "      <td>3.350000</td>\n",
       "      <td>3.525000</td>\n",
       "      <td>3.309375</td>\n",
       "      <td>3.478125</td>\n",
       "      <td>3.478125</td>\n",
       "      <td>210108000</td>\n",
       "    </tr>\n",
       "    <tr>\n",
       "      <th>...</th>\n",
       "      <td>...</td>\n",
       "      <td>...</td>\n",
       "      <td>...</td>\n",
       "      <td>...</td>\n",
       "      <td>...</td>\n",
       "      <td>...</td>\n",
       "    </tr>\n",
       "    <tr>\n",
       "      <th>2019-12-24</th>\n",
       "      <td>89.690498</td>\n",
       "      <td>89.778503</td>\n",
       "      <td>89.378998</td>\n",
       "      <td>89.460503</td>\n",
       "      <td>89.460503</td>\n",
       "      <td>17626000</td>\n",
       "    </tr>\n",
       "    <tr>\n",
       "      <th>2019-12-26</th>\n",
       "      <td>90.050499</td>\n",
       "      <td>93.523003</td>\n",
       "      <td>89.974998</td>\n",
       "      <td>93.438499</td>\n",
       "      <td>93.438499</td>\n",
       "      <td>120108000</td>\n",
       "    </tr>\n",
       "    <tr>\n",
       "      <th>2019-12-27</th>\n",
       "      <td>94.146004</td>\n",
       "      <td>95.070000</td>\n",
       "      <td>93.300499</td>\n",
       "      <td>93.489998</td>\n",
       "      <td>93.489998</td>\n",
       "      <td>123732000</td>\n",
       "    </tr>\n",
       "    <tr>\n",
       "      <th>2019-12-30</th>\n",
       "      <td>93.699997</td>\n",
       "      <td>94.199997</td>\n",
       "      <td>92.030998</td>\n",
       "      <td>92.344498</td>\n",
       "      <td>92.344498</td>\n",
       "      <td>73494000</td>\n",
       "    </tr>\n",
       "    <tr>\n",
       "      <th>2019-12-31</th>\n",
       "      <td>92.099998</td>\n",
       "      <td>92.663002</td>\n",
       "      <td>91.611504</td>\n",
       "      <td>92.391998</td>\n",
       "      <td>92.391998</td>\n",
       "      <td>50130000</td>\n",
       "    </tr>\n",
       "  </tbody>\n",
       "</table>\n",
       "<p>5031 rows × 6 columns</p>\n",
       "</div>"
      ],
      "text/plain": [
       "                 Open       High        Low      Close  Adj Close     Volume\n",
       "Date                                                                        \n",
       "2000-01-03   4.075000   4.478125   3.952344   4.468750   4.468750  322352000\n",
       "2000-01-04   4.268750   4.575000   4.087500   4.096875   4.096875  349748000\n",
       "2000-01-05   3.525000   3.756250   3.400000   3.487500   3.487500  769148000\n",
       "2000-01-06   3.565625   3.634375   3.200000   3.278125   3.278125  375040000\n",
       "2000-01-07   3.350000   3.525000   3.309375   3.478125   3.478125  210108000\n",
       "...               ...        ...        ...        ...        ...        ...\n",
       "2019-12-24  89.690498  89.778503  89.378998  89.460503  89.460503   17626000\n",
       "2019-12-26  90.050499  93.523003  89.974998  93.438499  93.438499  120108000\n",
       "2019-12-27  94.146004  95.070000  93.300499  93.489998  93.489998  123732000\n",
       "2019-12-30  93.699997  94.199997  92.030998  92.344498  92.344498   73494000\n",
       "2019-12-31  92.099998  92.663002  91.611504  92.391998  92.391998   50130000\n",
       "\n",
       "[5031 rows x 6 columns]"
      ]
     },
     "execution_count": 2,
     "metadata": {},
     "output_type": "execute_result"
    }
   ],
   "source": [
    "amzn = yf.download('AMZN', '2000-01-01', '2020-01-01')\n",
    "amzn\n"
   ]
  },
  {
   "cell_type": "code",
   "execution_count": 3,
   "id": "66b1ad65",
   "metadata": {
    "id": "66b1ad65"
   },
   "outputs": [],
   "source": [
    "def SMA(array, period):\n",
    "    return array.rolling(period).mean()"
   ]
  },
  {
   "cell_type": "code",
   "execution_count": 4,
   "id": "5f48617e",
   "metadata": {
    "id": "5f48617e"
   },
   "outputs": [],
   "source": [
    "sma50 = SMA(amzn['Close'], 20)\n",
    "sma200 = SMA(amzn['Close'], 200)"
   ]
  },
  {
   "cell_type": "code",
   "execution_count": 5,
   "id": "096d309b",
   "metadata": {
    "id": "096d309b"
   },
   "outputs": [],
   "source": [
    "def crossover(array1, array2):\n",
    "    return array1 > array2\n",
    "\n",
    "def crossunder(array1, array2):\n",
    "    return array1 < array2"
   ]
  },
  {
   "cell_type": "code",
   "execution_count": 6,
   "id": "62041637",
   "metadata": {
    "id": "62041637"
   },
   "outputs": [],
   "source": [
    "enter_rules = crossover(sma50, sma200)\n",
    "exit_rules = crossunder(sma50, sma200)"
   ]
  },
  {
   "cell_type": "code",
   "execution_count": 7,
   "id": "7a176414",
   "metadata": {},
   "outputs": [
    {
     "data": {
      "text/plain": [
       "Date\n",
       "2000-01-03    False\n",
       "2000-01-04    False\n",
       "2000-01-05    False\n",
       "2000-01-06    False\n",
       "2000-01-07    False\n",
       "              ...  \n",
       "2019-12-24     True\n",
       "2019-12-26     True\n",
       "2019-12-27     True\n",
       "2019-12-30     True\n",
       "2019-12-31     True\n",
       "Name: Close, Length: 5031, dtype: bool"
      ]
     },
     "execution_count": 7,
     "metadata": {},
     "output_type": "execute_result"
    }
   ],
   "source": [
    "exit_rules"
   ]
  },
  {
   "cell_type": "code",
   "execution_count": 8,
   "id": "8d581f7f",
   "metadata": {},
   "outputs": [
    {
     "data": {
      "text/plain": [
       "Date\n",
       "2000-01-03    False\n",
       "2000-01-04    False\n",
       "2000-01-05    False\n",
       "2000-01-06    False\n",
       "2000-01-07    False\n",
       "              ...  \n",
       "2019-12-24    False\n",
       "2019-12-26    False\n",
       "2019-12-27    False\n",
       "2019-12-30    False\n",
       "2019-12-31    False\n",
       "Name: Close, Length: 5031, dtype: bool"
      ]
     },
     "execution_count": 8,
     "metadata": {},
     "output_type": "execute_result"
    }
   ],
   "source": [
    "enter_rules"
   ]
  },
  {
   "cell_type": "code",
   "execution_count": 9,
   "id": "52b19cea",
   "metadata": {
    "colab": {
     "base_uri": "https://localhost:8080/"
    },
    "id": "52b19cea",
    "outputId": "50436fb1-9d4b-43f6-b84a-9182b7b8f762"
   },
   "outputs": [
    {
     "name": "stdout",
     "output_type": "stream",
     "text": [
      "Date\n",
      "2000-10-31    False\n",
      "Name: Close, dtype: bool\n"
     ]
    }
   ],
   "source": [
    "check = enter_rules[exit_rules.index == '2000-10-31']\n",
    "print(check)"
   ]
  },
  {
   "cell_type": "code",
   "execution_count": 10,
   "id": "f25e6c72",
   "metadata": {
    "id": "f25e6c72"
   },
   "outputs": [],
   "source": [
    "def marketposition_generator(dataset, enter_rules, exit_rules):\n",
    "\n",
    "    dataset['enter_rules'] = enter_rules\n",
    "    dataset['exit_rules'] = exit_rules\n",
    "\n",
    "    status = 0\n",
    "    mp = []\n",
    "    for (i, j) in zip(enter_rules, exit_rules):\n",
    "        if status == 0:\n",
    "            if i == 1 and j != -1:\n",
    "                status = 1\n",
    "        else:\n",
    "            if j == -1:\n",
    "                status = 0\n",
    "        mp.append(status)\n",
    "\n",
    "    dataset['mp'] = mp\n",
    "    dataset['mp'] = dataset['mp'].shift(1)\n",
    "    dataset.iloc[0,2] = 0\n",
    "\n",
    "    return dataset['mp']"
   ]
  },
  {
   "cell_type": "code",
   "execution_count": 11,
   "id": "b2590070",
   "metadata": {
    "id": "b2590070"
   },
   "outputs": [],
   "source": [
    "COSTS = 0.50\n",
    "INSTRUMENT = 1\n",
    "OPERATION_MONEY = 10000\n",
    "DIRECTION = \"long\"\n",
    "ORDER_TYPE = \"market\"\n",
    "ENTER_LEVEL = amzn['Open']"
   ]
  },
  {
   "cell_type": "code",
   "execution_count": 12,
   "id": "d49215de",
   "metadata": {},
   "outputs": [
    {
     "name": "stdout",
     "output_type": "stream",
     "text": [
      "50330.7\n"
     ]
    }
   ],
   "source": [
    "RISK_PER_TRADE = 0.05  # 5% risk per trade\n",
    "STOP_LOSS_PERCENT = 0.05 # 5% stop loss\n",
    "\n",
    "def apply_trading_system_with_risk(dataset, direction, order_type, enter_level, enter_rules, exit_rules):\n",
    "    dataset['enter_rules'] = enter_rules.apply(lambda x: 1 if x else 0)\n",
    "    dataset['exit_rules'] = exit_rules.apply(lambda x: -1 if x else 0)\n",
    "    dataset['mp'] = marketposition_generator(dataset, dataset['enter_rules'], dataset['exit_rules'])\n",
    "    \n",
    "    if order_type == \"market\":\n",
    "        dataset['entry_price'] = np.where(\n",
    "            (dataset.mp.shift(1) == 0) & (dataset.mp == 1),\n",
    "            enter_level,\n",
    "            np.nan\n",
    "        )\n",
    "        \n",
    "    if INSTRUMENT == 1:\n",
    "        risk_per_trade = OPERATION_MONEY * RISK_PER_TRADE\n",
    "        stop_loss_amount = enter_level * STOP_LOSS_PERCENT\n",
    "        \n",
    "        dataset['number_of_stocks'] = np.where(\n",
    "            (dataset.mp.shift(1) == 0) & (dataset.mp == 1) & (stop_loss_amount <= enter_level),\n",
    "            risk_per_trade / stop_loss_amount,\n",
    "            np.nan\n",
    "        )\n",
    "        dataset['number_of_stocks'] = dataset['number_of_stocks'].apply(\n",
    "            lambda x: round(x, 0)\n",
    "        ).fillna(method='ffill')\n",
    "    \n",
    "    dataset['entry_price'] = dataset['entry_price'].fillna(method='ffill')\n",
    "    \n",
    "    if INSTRUMENT == 1:\n",
    "        dataset['number_of_stocks'] = dataset['number_of_stocks'].fillna(method='ffill')\n",
    "    \n",
    "    dataset['events_in'] = np.where((dataset.mp == 1) & (dataset.mp.shift(1) == 0), 'entry', '')\n",
    "    \n",
    "    if direction == 'long':\n",
    "        if INSTRUMENT == 1:\n",
    "            dataset['open_operations'] = (\n",
    "                (dataset.Close - dataset.entry_price) * dataset.number_of_stocks\n",
    "            )\n",
    "            dataset['open_operations'] = np.where(\n",
    "                (dataset.mp == 1) & (dataset.mp.shift(-1) == 0),\n",
    "                (\n",
    "                    (dataset.Open.shift(-1) - dataset.entry_price) * dataset.number_of_stocks - 2 * COSTS\n",
    "                ),\n",
    "                dataset.open_operations\n",
    "            )\n",
    "    else:\n",
    "        if INSTRUMENT == 1:\n",
    "            dataset['open_operations'] = (\n",
    "                (dataset.entry_price - dataset.Close) * dataset.number_of_stocks\n",
    "            )\n",
    "            dataset['open_operations'] = np.where(\n",
    "                (dataset.mp == 1) & (dataset.mp.shift(-1) == 0),\n",
    "                (\n",
    "                    (dataset.entry_price - dataset.Open.shift(-1)) * dataset.number_of_stocks - 2 * COSTS\n",
    "                ),\n",
    "                dataset.open_operations\n",
    "            )\n",
    "    \n",
    "    dataset['open_operations'] = np.where(dataset.mp == 1, dataset.open_operations, 0)\n",
    "    \n",
    "    dataset['events_out'] = np.where((dataset.mp == 1) & (dataset.exit_rules == -1), 'exit', '')\n",
    "    \n",
    "    dataset['operations'] = np.where(\n",
    "        (dataset.exit_rules == -1) & (dataset.mp == 1),\n",
    "        dataset.open_operations,\n",
    "        np.nan\n",
    "    )\n",
    "    \n",
    "    dataset['closed_equity'] = dataset.operations.fillna(0).cumsum()\n",
    "    dataset['open_equity'] = dataset.closed_equity + dataset.open_operations - dataset.operations.fillna(0)\n",
    "    \n",
    "    dataset.to_csv('trading_system_export.csv')\n",
    "    \n",
    "    return dataset\n",
    "\n",
    "trading_system_with_risk = apply_trading_system_with_risk(amzn, DIRECTION, ORDER_TYPE, ENTER_LEVEL, enter_rules, exit_rules)\n",
    "\n",
    "net_profit_with_risk = trading_system_with_risk['closed_equity'][-1] - OPERATION_MONEY\n",
    "print(round(net_profit_with_risk, 2))\n"
   ]
  },
  {
   "cell_type": "code",
   "execution_count": 39,
   "id": "7d6484ad",
   "metadata": {},
   "outputs": [],
   "source": [
    "trading_system_with_risk['daily_returns'] = trading_system_with_risk['closed_equity'].pct_change()\n",
    "trading_system_with_risk.dropna(subset=['daily_returns'], inplace=True)\n",
    "strategy_returns=pd.DataFrame(trading_system_with_risk['daily_returns'])"
   ]
  },
  {
   "cell_type": "code",
   "execution_count": 54,
   "id": "ad31b563",
   "metadata": {},
   "outputs": [
    {
     "data": {
      "image/png": "[encoded data removed]",
      "text/plain": [
       "<Figure size 1000x600 with 1 Axes>"
      ]
     },
     "metadata": {},
     "output_type": "display_data"
    }
   ],
   "source": [
    "# Resample daily returns to annual returns\n",
    "annual_returns = strategy_returns['daily_returns'].resample('Y').sum()\n",
    "\n",
    "# Plotting the annual returns\n",
    "plt.figure(figsize=(10, 6))\n",
    "plt.plot(annual_returns.index, annual_returns, label='Strategy Annual Returns', color='blue')\n",
    "plt.xlabel('Year')\n",
    "plt.ylabel('Annual Returns')\n",
    "plt.title('Annual Returns of the Trading Strategy with Risk Management')\n",
    "plt.legend()\n",
    "plt.grid(True)\n",
    "plt.show()\n",
    "\n"
   ]
  },
  {
   "cell_type": "markdown",
   "id": "SV20en_d5M5g",
   "metadata": {
    "id": "SV20en_d5M5g"
   },
   "source": [
    "\n",
    "\n",
    "Performance Metrics:"
   ]
  },
  {
   "cell_type": "code",
   "execution_count": 41,
   "id": "A1sTGEoj5PG9",
   "metadata": {
    "id": "A1sTGEoj5PG9"
   },
   "outputs": [],
   "source": [
    "import pandas as pd\n",
    "pd.options.display.float_format = '{:.3f}'.format\n",
    "import numpy as np\n",
    "import seaborn as sns\n",
    "import matplotlib.pyplot as plt\n",
    "from sklearn.linear_model import LinearRegression\n",
    "\n",
    "# Define the functions that we need\n",
    "\n",
    "#Mean, Volatality and Sharpe Ratio\n",
    "def performanceMetrics(returns,annualization=252, quantile=.05):\n",
    "    metrics = pd.DataFrame(index=returns.columns)\n",
    "    metrics['Mean'] = returns.mean() * annualization\n",
    "    metrics['Vol'] = returns.std() * np.sqrt(annualization)\n",
    "    metrics['Sharpe'] = (returns.mean() / returns.std()) * np.sqrt(annualization)\n",
    "    metrics['Min'] = returns.min()\n",
    "    metrics['Max'] = returns.max()\n",
    "    return metrics\n",
    "\n",
    "#VaR, CVaR, Max Drawdown\n",
    "def tailMetrics(returns, quantile=.05, relative=False, mdd=True):\n",
    "    metrics = pd.DataFrame(index=returns.columns)\n",
    "    metrics['Skewness'] = returns.skew()\n",
    "    metrics['Kurtosis'] = returns.kurtosis()\n",
    "\n",
    "    VaR = returns.quantile(quantile)\n",
    "    CVaR = (returns[returns < returns.quantile(quantile)]).mean()\n",
    "\n",
    "    if relative:\n",
    "        VaR = (VaR - returns.mean())/returns.std()\n",
    "        CVaR = (CVaR - returns.mean())/returns.std()\n",
    "\n",
    "    metrics[f'VaR ({quantile})'] = VaR\n",
    "    metrics[f'CVaR ({quantile})'] = CVaR\n",
    "\n",
    "    if mdd:\n",
    "        mdd_stats = maximumDrawdown(returns)\n",
    "        metrics = metrics.join(mdd_stats)\n",
    "\n",
    "        if relative:\n",
    "            metrics['Max Drawdown'] = (metrics['Max Drawdown'] - returns.mean())/returns.std()\n",
    "\n",
    "    return metrics\n",
    "\n",
    "def maximumDrawdown(returns):\n",
    "    cum_returns = (1 + returns).cumprod()\n",
    "    rolling_max = cum_returns.cummax()\n",
    "    drawdown = (cum_returns - rolling_max) / rolling_max\n",
    "\n",
    "    max_drawdown = drawdown.min()\n",
    "    end_date = drawdown.idxmin()\n",
    "    summary = pd.DataFrame({'Max Drawdown': max_drawdown, 'Bottom': end_date})\n",
    "\n",
    "    for col in drawdown:\n",
    "        summary.loc[col,'Peak'] = (rolling_max.loc[:end_date[col],col]).idxmax()\n",
    "        recovery = (drawdown.loc[end_date[col]:,col])\n",
    "        try:\n",
    "            summary.loc[col,'Recover'] = pd.to_datetime(recovery[recovery >= 0].index[0])\n",
    "        except:\n",
    "            summary.loc[col,'Recover'] = pd.to_datetime(None)\n",
    "\n",
    "        summary['Peak'] = pd.to_datetime(summary['Peak'])\n",
    "        try:\n",
    "            summary['Duration (to Recover)'] = (summary['Recover'] - summary['Peak'])\n",
    "        except:\n",
    "            summary['Duration (to Recover)'] = None\n",
    "\n",
    "        summary = summary[['Max Drawdown','Peak','Bottom','Recover','Duration (to Recover)']]\n",
    "\n",
    "    return summary\n",
    "\n",
    " "
   ]
  },
  {
   "cell_type": "markdown",
   "id": "H7CwohW36F2V",
   "metadata": {
    "id": "H7CwohW36F2V"
   },
   "source": [
    " # summary statistics (annualize these statistics):\n",
    "\n",
    "(a) mean\n",
    "\n",
    "(b) volatility\n",
    "\n",
    "(c) Sharpe ratio\n",
    "\n",
    "# statistics related to tail- risk\n",
    "\n",
    "(a) Skewness\n",
    "\n",
    "(b) Excess Kurtosis (in excess of 3)\n",
    "\n",
    "(c) VaR (.05) - the fifth quantile of historic returns\n",
    "\n",
    "(d) CVaR (.05) - the mean of the returns at or below the fifth quantile\n",
    "\n",
    "(e) Maximum drawdown - include the dates of the max/min/recovery within the max drawdown period.\n",
    "\n"
   ]
  },
  {
   "cell_type": "code",
   "execution_count": 42,
   "id": "f4df32e7",
   "metadata": {
    "scrolled": true
   },
   "outputs": [
    {
     "name": "stdout",
     "output_type": "stream",
     "text": [
      "Performance Metrics:\n",
      "               Mean   Vol  Sharpe    Min   Max\n",
      "daily_returns 0.082 0.201   0.410 -0.093 0.561\n"
     ]
    }
   ],
   "source": [
    "performance_metrics = performanceMetrics(strategy_returns)\n",
    "print(\"Performance Metrics:\")\n",
    "print(performance_metrics)"
   ]
  },
  {
   "cell_type": "code",
   "execution_count": 50,
   "id": "33d11115",
   "metadata": {
    "scrolled": true
   },
   "outputs": [
    {
     "name": "stdout",
     "output_type": "stream",
     "text": [
      "Tail Metrics:\n",
      "               Skewness  Kurtosis  VaR (0.05)  CVaR (0.05)  Max Drawdown  \\\n",
      "daily_returns    33.853  1328.571       0.000       -0.066        -0.223   \n",
      "\n",
      "                    Peak     Bottom    Recover Duration (to Recover)  \n",
      "daily_returns 2004-03-09 2006-02-15 2008-02-05             1428 days  \n"
     ]
    }
   ],
   "source": [
    "tail_metrics = tailMetrics(strategy_returns)\n",
    "print(\"Tail Metrics:\")\n",
    "print(tail_metrics)"
   ]
  },
  {
   "cell_type": "code",
   "execution_count": null,
   "id": "48d0cfea",
   "metadata": {},
   "outputs": [],
   "source": []
  }
 ],
 "metadata": {
  "colab": {
   "provenance": []
  },
  "kernelspec": {
   "display_name": "Python 3 (ipykernel)",
   "language": "python",
   "name": "python3"
  },
  "language_info": {
   "codemirror_mode": {
    "name": "ipython",
    "version": 3
   },
   "file_extension": ".py",
   "mimetype": "text/x-python",
   "name": "python",
   "nbconvert_exporter": "python",
   "pygments_lexer": "ipython3",
   "version": "3.9.13"
  }
 },
 "nbformat": 4,
 "nbformat_minor": 5
}
